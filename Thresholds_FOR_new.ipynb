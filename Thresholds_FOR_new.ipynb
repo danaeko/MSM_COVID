{
 "cells": [
  {
   "cell_type": "markdown",
   "metadata": {},
   "source": [
    "# Without threshold"
   ]
  },
  {
   "cell_type": "code",
   "execution_count": 15,
   "metadata": {},
   "outputs": [
    {
     "name": "stderr",
     "output_type": "stream",
     "text": [
      "100%|██████████| 6/6 [00:00<00:00, 1174.60it/s]           \n",
      "100%|██████████| 6/6 [00:00<00:00,  7.19it/s]                                 \n",
      "100%|██████████| 5/5 [00:01<00:00,  4.97it/s]                       \n"
     ]
    },
    {
     "name": "stdout",
     "output_type": "stream",
     "text": [
      "1.4116969327639763\n"
     ]
    }
   ],
   "source": [
    "# load modules\n",
    "%matplotlib inline\n",
    "import matplotlib.pyplot as plt\n",
    "import matplotlib as mpl\n",
    "import numpy as np\n",
    "import re \n",
    "import pandas as pd\n",
    "import pyemma\n",
    "import pyemma.coordinates\n",
    "from pyemma.coordinates import source\n",
    "from pyemma.util.contexts import settings\n",
    "\n",
    "# select features from important torsional data\n",
    "from pyemma.coordinates import load\n",
    "pdb=('mpro.pdb')\n",
    "traj=['mpro01.dcd','mpro02.dcd','mpro03.dcd','mpro04.dcd','mpro05.dcd','mpro06.dcd']\n",
    "torsions_feat = pyemma.coordinates.featurizer(pdb) \n",
    "selstr=\"resSeq 1 to 306\"\n",
    "torsions_feat.add_backbone_torsions(selstr,cossin=True, periodic=False)\n",
    "torsions_data=pyemma.coordinates.load(traj, features= torsions_feat)\n",
    "labels = ['backbone\\ntorsions']\n",
    "score_phi_psi = pyemma.coordinates.vamp(torsions_data[:-1], dim=3).score(\n",
    "            test_data=torsions_data[-1],\n",
    "            score_method='VAMP2')\n",
    "print(score_phi_psi)"
   ]
  },
  {
   "cell_type": "code",
   "execution_count": 16,
   "metadata": {},
   "outputs": [
    {
     "name": "stderr",
     "output_type": "stream",
     "text": [
      "100%|██████████| 6/6 [00:01<00:00,  4.14it/s]                       \n",
      "100%|██████████| 6/6 [00:00<00:00, 109.29it/s]               "
     ]
    },
    {
     "name": "stdout",
     "output_type": "stream",
     "text": [
      "resSeq 2 3 5 6 8 11 13 12 14 15 19 22 27 28 33 35 34 40 41 42 43 44 45 46 47 49 48 50 53 52 54 56 55 57 59 58 62 63 65 81 83 82 84 86 101 111 110 112 113 117 119 118 121 120 124 126 127 129 130 131 132 137 136 138 140 139 142 141 143 144 159 160 161 165 164 167 169 170 175 176 182 181 183 185 187 186 188 190 189 192 194 193 200 204 203 205 208 214 216 217 219 220 226 225 227 234 238 240 239 241 268 271 275 276 277 278 280 279 282 281 283 284 285 286 287 288 289 290 291 293 295 297 298 301 300 303 302 305 304 306 \n"
     ]
    },
    {
     "name": "stderr",
     "output_type": "stream",
     "text": [
      "\n"
     ]
    }
   ],
   "source": [
    "##Το score ήταν μεγαλύτερο όταν τοποθετούμε όλα τα αμινοξέα ακόμα και τα 3 τρία τελευταία\n",
    "#οπότε το φιλτράρισμα ξεκινάει από όλα τα αμινοξέα (306)\n",
    "\n",
    "###### Step-1 THRESHOLD = 0.75 ######\n",
    "\n",
    "#time-lagged independent component analysis (TICA)\n",
    "tica = pyemma.coordinates.tica(torsions_data, dim=3, lag=50)\n",
    "tica_output = tica.get_output()\n",
    "tica_concatenated = np.concatenate(tica_output)\n",
    "        \n",
    "C = tica.feature_TIC_correlation\n",
    "df = pd.DataFrame(C[:,:3], columns=['IC1','IC2','IC3'])\n",
    "p=[]\n",
    "for j in torsions_feat.describe():\n",
    "    a = re.findall(r'(?<=\\s)\\d+(?=\\))',j) #το έκανα αυτό γιατί παρατήρησα οτι κάποιες φορές οι θέσεις είναι ανακατεμένες        \n",
    "    p.append(int(a[0]))\n",
    "df['pos']=p\n",
    "threshold = 0.075\n",
    "DF3 = df[~(df['IC1']<=threshold) | ~(df['IC1']>=-threshold)]\n",
    "DF3 = DF3[~(DF3['IC2']<=threshold) | ~(DF3['IC2']>=-threshold)] \n",
    "DF3 = DF3[~(DF3['IC3']<=threshold) | ~(DF3['IC3']>=-threshold)] \n",
    "        \n",
    "pos_IC1_2_3 = 'resSeq '\n",
    "for k in DF3['pos']:\n",
    "    if str(k) not in pos_IC1_2_3:\n",
    "        pos_IC1_2_3 += str(k)+' '\n",
    "print(pos_IC1_2_3)"
   ]
  },
  {
   "cell_type": "markdown",
   "metadata": {},
   "source": [
    "# Threshold=0.075"
   ]
  },
  {
   "cell_type": "code",
   "execution_count": 17,
   "metadata": {},
   "outputs": [
    {
     "name": "stderr",
     "output_type": "stream",
     "text": [
      "100%|██████████| 6/6 [00:00<00:00, 1399.03it/s]           \n",
      "100%|██████████| 6/6 [00:00<00:00, 11.01it/s]                                 \n",
      "100%|██████████| 5/5 [00:00<00:00, 19.78it/s]                       \n"
     ]
    },
    {
     "name": "stdout",
     "output_type": "stream",
     "text": [
      "1.541874409598567\n"
     ]
    }
   ],
   "source": [
    "pdb=('mpro.pdb')\n",
    "traj=['mpro01.dcd','mpro02.dcd','mpro03.dcd','mpro04.dcd','mpro05.dcd','mpro06.dcd']\n",
    "torsions_feat = pyemma.coordinates.featurizer(pdb) \n",
    "selstr=pos_IC1_2_3\n",
    "torsions_feat.add_backbone_torsions(selstr,cossin=True, periodic=False)\n",
    "torsions_data=pyemma.coordinates.load(traj, features= torsions_feat)\n",
    "labels = ['backbone\\ntorsions']\n",
    "score_phi_psi = pyemma.coordinates.vamp(torsions_data[:-1], dim=3).score(\n",
    "            test_data=torsions_data[-1],\n",
    "            score_method='VAMP2')\n",
    "print(score_phi_psi)"
   ]
  },
  {
   "cell_type": "code",
   "execution_count": 18,
   "metadata": {},
   "outputs": [
    {
     "name": "stderr",
     "output_type": "stream",
     "text": [
      "100%|██████████| 6/6 [00:00<00:00, 16.22it/s]                       \n",
      "100%|██████████| 6/6 [00:00<00:00, 185.68it/s]               \n",
      "initialize kmeans++ centers:   0%|          | 0/100 [00:00<?, ?it/s]\n",
      "100%|██████████| 100/100 [00:00<00:00, 28.15it/s]                           \n",
      "100%|██████████| 100/100 [00:00<00:00, 557.14it/s]        \n",
      "100%|██████████| 100/100 [00:00<00:00, 530.50it/s]                \n",
      "estimating BayesianMSM:  33%|███▎      | 4/12 [00:01<00:04,  1.74it/s]"
     ]
    },
    {
     "name": "stdout",
     "output_type": "stream",
     "text": [
      "03-07-20 08:55:48 pyemma.msm.estimators.bayesian_msm.BayesianMSM[99] WARNING  Ignored error during estimation: Stationary distribution contains entries smaller than 1e-15 during iteration\n"
     ]
    },
    {
     "name": "stderr",
     "output_type": "stream",
     "text": [
      "estimating BayesianMSM:  42%|████▏     | 5/12 [00:01<00:03,  2.29it/s]"
     ]
    },
    {
     "name": "stdout",
     "output_type": "stream",
     "text": [
      "03-07-20 08:55:48 pyemma.msm.estimators.bayesian_msm.BayesianMSM[99] WARNING  Ignored error during estimation: Stationary distribution contains entries smaller than 1e-15 during iteration\n",
      "03-07-20 08:55:48 pyemma.msm.estimators.bayesian_msm.BayesianMSM[100] WARNING  Ignored error during estimation: Stationary distribution contains entries smaller than 1e-15 during iteration\n"
     ]
    },
    {
     "name": "stderr",
     "output_type": "stream",
     "text": [
      "estimating BayesianMSM:  58%|█████▊    | 7/12 [00:01<00:01,  2.88it/s]"
     ]
    },
    {
     "name": "stdout",
     "output_type": "stream",
     "text": [
      "03-07-20 08:55:48 pyemma.msm.estimators.bayesian_msm.BayesianMSM[100] WARNING  Ignored error during estimation: Stationary distribution contains entries smaller than 1e-15 during iteration\n",
      "03-07-20 08:55:48 pyemma.msm.estimators.bayesian_msm.BayesianMSM[101] WARNING  Ignored error during estimation: Stationary distribution contains entries smaller than 1e-15 during iteration\n"
     ]
    },
    {
     "name": "stderr",
     "output_type": "stream",
     "text": [
      "estimating BayesianMSM:  75%|███████▌  | 9/12 [00:01<00:00,  3.57it/s]"
     ]
    },
    {
     "name": "stdout",
     "output_type": "stream",
     "text": [
      "03-07-20 08:55:48 pyemma.msm.estimators.bayesian_msm.BayesianMSM[101] WARNING  Ignored error during estimation: Stationary distribution contains entries smaller than 1e-15 during iteration\n"
     ]
    },
    {
     "name": "stderr",
     "output_type": "stream",
     "text": [
      "100%|██████████| 12/12 [00:02<00:00,  5.71it/s]                        "
     ]
    },
    {
     "name": "stdout",
     "output_type": "stream",
     "text": [
      "03-07-20 08:55:48 pyemma.msm.estimators.implied_timescales.ImpliedTimescales[96] WARNING  Estimation has failed at lagtimes: [150 200 250 300 350 450]. Details:\n",
      "['Error at lag time 150: Stationary distribution contains entries smaller than '\n",
      " '1e-15 during iteration',\n",
      " 'Error at lag time 200: Stationary distribution contains entries smaller than '\n",
      " '1e-15 during iteration',\n",
      " 'Error at lag time 250: Stationary distribution contains entries smaller than '\n",
      " '1e-15 during iteration',\n",
      " 'Error at lag time 300: Stationary distribution contains entries smaller than '\n",
      " '1e-15 during iteration',\n",
      " 'Error at lag time 350: Stationary distribution contains entries smaller than '\n",
      " '1e-15 during iteration',\n",
      " 'Error at lag time 450: Stationary distribution contains entries smaller than '\n",
      " '1e-15 during iteration']\n"
     ]
    },
    {
     "name": "stderr",
     "output_type": "stream",
     "text": [
      "\n"
     ]
    },
    {
     "name": "stdout",
     "output_type": "stream",
     "text": [
      "03-07-20 08:55:49 pyemma.msm.estimators.implied_timescales.ImpliedTimescales[96] WARNING  Some timescales could not be computed. Timescales array is smaller than expected or contains NaNs\n"
     ]
    },
    {
     "name": "stderr",
     "output_type": "stream",
     "text": [
      "1184it [00:00, 9238.26it/s]                                                                                                           \n",
      "100%|██████████| 100/100 [00:00<00:00, 356.79it/s]                                                                  \n"
     ]
    },
    {
     "data": {
      "image/png": "[encoded data removed]",
      "text/plain": [
       "<Figure size 720x576 with 7 Axes>"
      ]
     },
     "metadata": {
      "needs_background": "light"
     },
     "output_type": "display_data"
    }
   ],
   "source": [
    "#time-lagged independent component analysis (TICA)\n",
    "tica = pyemma.coordinates.tica(torsions_data, dim=3, lag=50)\n",
    "tica_output = tica.get_output()\n",
    "tica_concatenated = np.concatenate(tica_output)\n",
    "    \n",
    "##Clustering\n",
    "cluster = pyemma.coordinates.cluster_kmeans(\n",
    "    tica_concatenated, k=100, max_iter=100, stride=10, fixed_seed=100)\n",
    "dtrajs_concatenated = np.concatenate(cluster.dtrajs)\n",
    "its = pyemma.msm.its(cluster.dtrajs, lags=[10, 20, 30, 40, 50, 100, 150, 200, 250, 300, 350, 450], nits=10, errors='bayes')\n",
    "\n",
    "nstates=3\n",
    "msm = pyemma.msm.bayesian_markov_model(cluster.dtrajs, lag=50, dt_traj='1 ns', conf=0.95)\n",
    "#pyemma.plots.plot_cktest(msm.cktest(nstates));\n",
    "msm.pcca(nstates)\n",
    "#check the location of our discrete states by plotting them onto the density of our data in the first two TICA dimensions\n",
    "#The cluster centers are contained in the cluster object\n",
    "\n",
    "#We note that the states are well distributed in the low-dimensional TICA subspace\n",
    "def draw_panel(ax, i, j):\n",
    "    _, _, misc = pyemma.plots.plot_state_map(\n",
    "        *tica_concatenated[:, [i, j]].T,\n",
    "        msm.metastable_assignments[dtrajs_concatenated],\n",
    "        ax=ax)\n",
    "    ax.set_xlabel('IC {}'.format(i + 1))\n",
    "    ax.set_ylabel('IC {}'.format(j + 1))\n",
    "    misc['cbar'].set_ticklabels(range(1, msm.nstates + 1))\n",
    "\n",
    "fig, axes = plt.subplots(2, 2, figsize=(10, 8))\n",
    "draw_panel(axes[0, 0], 0, 2)\n",
    "draw_panel(axes[0, 1], 1, 2)\n",
    "draw_panel(axes[1, 0], 0, 1)\n",
    "axes[1, 1].set_axis_off()\n",
    "fig.tight_layout()"
   ]
  },
  {
   "cell_type": "code",
   "execution_count": 19,
   "metadata": {},
   "outputs": [
    {
     "name": "stderr",
     "output_type": "stream",
     "text": [
      "100%|██████████| 6/6 [00:00<00:00, 15.40it/s]                       \n",
      "100%|██████████| 6/6 [00:00<00:00, 184.41it/s]               "
     ]
    },
    {
     "name": "stdout",
     "output_type": "stream",
     "text": [
      "resSeq 6 13 42 43 44 45 47 48 53 58 62 63 82 83 84 86 110 111 112 113 117 118 119 126 127 137 138 139 140 141 142 143 144 159 161 165 169 175 182 185 188 193 194 203 204 214 238 239 240 276 280 282 283 284 285 286 287 288 289 290 291 297 298 302 303 304 305 \n"
     ]
    },
    {
     "name": "stderr",
     "output_type": "stream",
     "text": [
      "\n"
     ]
    }
   ],
   "source": [
    "#time-lagged independent component analysis (TICA)\n",
    "import re \n",
    "tica = pyemma.coordinates.tica(torsions_data, dim=3, lag=50)\n",
    "tica_output = tica.get_output()\n",
    "tica_concatenated = np.concatenate(tica_output)\n",
    "        \n",
    "C = tica.feature_TIC_correlation\n",
    "df = pd.DataFrame(C[:,:3], columns=['IC1','IC2','IC3'])\n",
    "p=[]\n",
    "for j in torsions_feat.describe():\n",
    "    a = re.findall(r'(?<=\\s)\\d+(?=\\))',j) #το έκανα αυτό γιατί παρατήρησα οτι κάποιες φορές οι θέσεις είναι ανακατεμένες        \n",
    "    p.append(int(a[0]))\n",
    "df['pos']=p\n",
    "threshold = 0.12\n",
    "DF3 = df[~(df['IC1']<=threshold) | ~(df['IC1']>=-threshold)]\n",
    "DF3 = DF3[~(DF3['IC2']<=threshold) | ~(DF3['IC2']>=-threshold)] \n",
    "DF3 = DF3[~(DF3['IC3']<=threshold) | ~(DF3['IC3']>=-threshold)] \n",
    "        \n",
    "pos_IC1_2_3 = 'resSeq '\n",
    "for k in DF3['pos']:\n",
    "    if str(k) not in pos_IC1_2_3:\n",
    "        pos_IC1_2_3 += str(k)+' '\n",
    "print(pos_IC1_2_3)"
   ]
  },
  {
   "cell_type": "markdown",
   "metadata": {},
   "source": [
    "# Threshold=0.12"
   ]
  },
  {
   "cell_type": "code",
   "execution_count": 20,
   "metadata": {},
   "outputs": [
    {
     "name": "stderr",
     "output_type": "stream",
     "text": [
      "100%|██████████| 6/6 [00:00<00:00, 1048.49it/s]           \n",
      "100%|██████████| 6/6 [00:00<00:00, 14.22it/s]                                 \n",
      "100%|██████████| 5/5 [00:00<00:00, 64.29it/s]               \n"
     ]
    },
    {
     "name": "stdout",
     "output_type": "stream",
     "text": [
      "1.6983460729301583\n"
     ]
    }
   ],
   "source": [
    "###### Step-2 THRESHOLD = 0.12 ######\n",
    "\n",
    "pdb=('mpro.pdb')\n",
    "traj=['mpro01.dcd','mpro02.dcd','mpro03.dcd','mpro04.dcd','mpro05.dcd','mpro06.dcd']\n",
    "torsions_feat = pyemma.coordinates.featurizer(pdb) \n",
    "selstr=pos_IC1_2_3\n",
    "torsions_feat.add_backbone_torsions(selstr, cossin=True, periodic=False)\n",
    "torsions_data=pyemma.coordinates.load(traj, features= torsions_feat)\n",
    "labels = ['backbone\\ntorsions']\n",
    "score_phi_psi = pyemma.coordinates.vamp(torsions_data[:-1], dim=3).score(\n",
    "            test_data=torsions_data[-1],\n",
    "            score_method='VAMP2')\n",
    "print(score_phi_psi)"
   ]
  },
  {
   "cell_type": "code",
   "execution_count": 21,
   "metadata": {},
   "outputs": [
    {
     "name": "stderr",
     "output_type": "stream",
     "text": [
      "100%|██████████| 6/6 [00:00<00:00, 45.08it/s]                       \n",
      "100%|██████████| 6/6 [00:00<00:00, 174.82it/s]               \n",
      "initialize kmeans++ centers:   0%|          | 0/100 [00:00<?, ?it/s]\n",
      "100%|██████████| 100/100 [00:00<00:00, 139.85it/s]                            \n",
      "100%|██████████| 100/100 [00:00<00:00, 620.37it/s]        \n",
      "100%|██████████| 100/100 [00:00<00:00, 621.00it/s]                \n",
      "100%|██████████| 12/12 [00:03<00:00,  3.99it/s]                        \n",
      "1376it [00:00, 10293.82it/s]                                                                                                           \n",
      "100%|██████████| 100/100 [00:00<00:00, 352.73it/s]                                                                   \n"
     ]
    },
    {
     "data": {
      "image/png": "[encoded data removed]",
      "text/plain": [
       "<Figure size 720x576 with 7 Axes>"
      ]
     },
     "metadata": {
      "needs_background": "light"
     },
     "output_type": "display_data"
    }
   ],
   "source": [
    "#time-lagged independent component analysis (TICA)\n",
    "tica = pyemma.coordinates.tica(torsions_data, dim=3, lag=50)\n",
    "tica_output = tica.get_output()\n",
    "tica_concatenated = np.concatenate(tica_output)\n",
    "    \n",
    "##Clustering\n",
    "cluster = pyemma.coordinates.cluster_kmeans(\n",
    "    tica_concatenated, k=100, max_iter=100, stride=10, fixed_seed=100)\n",
    "dtrajs_concatenated = np.concatenate(cluster.dtrajs)\n",
    "its = pyemma.msm.its(cluster.dtrajs, lags=[10, 20, 30, 40, 50, 100, 150, 200, 250, 300, 350, 450], nits=10, errors='bayes')\n",
    "\n",
    "nstates=3\n",
    "msm = pyemma.msm.bayesian_markov_model(cluster.dtrajs, lag=50, dt_traj='1 ns', conf=0.95)\n",
    "#pyemma.plots.plot_cktest(msm.cktest(nstates));\n",
    "msm.pcca(nstates)\n",
    "\n",
    "fig, axes = plt.subplots(2, 2, figsize=(10, 8))\n",
    "draw_panel(axes[0, 0], 0, 2)\n",
    "draw_panel(axes[0, 1], 1, 2)\n",
    "draw_panel(axes[1, 0], 0, 1)\n",
    "axes[1, 1].set_axis_off()\n",
    "fig.tight_layout()"
   ]
  },
  {
   "cell_type": "code",
   "execution_count": 22,
   "metadata": {},
   "outputs": [
    {
     "name": "stderr",
     "output_type": "stream",
     "text": [
      "100%|██████████| 6/6 [00:00<00:00, 50.92it/s]                       \n",
      "100%|██████████| 6/6 [00:00<00:00, 191.69it/s]               "
     ]
    },
    {
     "name": "stdout",
     "output_type": "stream",
     "text": [
      "resSeq 43 44 47 48 53 62 82 83 84 111 112 118 127 137 138 139 141 144 159 182 193 238 239 240 280 286 287 288 289 290 291 297 304 \n"
     ]
    },
    {
     "name": "stderr",
     "output_type": "stream",
     "text": [
      "\n"
     ]
    }
   ],
   "source": [
    "tica = pyemma.coordinates.tica(torsions_data, dim=3, lag=50)\n",
    "tica_output = tica.get_output()\n",
    "tica_concatenated = np.concatenate(tica_output)\n",
    "        \n",
    "C = tica.feature_TIC_correlation\n",
    "df = pd.DataFrame(C[:,:3], columns=['IC1','IC2','IC3'])\n",
    "p=[]\n",
    "for j in torsions_feat.describe():\n",
    "    a = re.findall(r'(?<=\\s)\\d+(?=\\))',j) #το έκανα αυτό γιατί παρατήρησα οτι κάποιες φορές οι θέσεις είναι ανακατεμένες        \n",
    "    p.append(int(a[0]))\n",
    "df['pos']=p\n",
    "threshold = 0.18\n",
    "DF3 = df[~(df['IC1']<=threshold) | ~(df['IC1']>=-threshold)]\n",
    "DF3 = DF3[~(DF3['IC2']<=threshold) | ~(DF3['IC2']>=-threshold)] \n",
    "DF3 = DF3[~(DF3['IC3']<=threshold) | ~(DF3['IC3']>=-threshold)] \n",
    "        \n",
    "pos_IC1_2_3 = 'resSeq '\n",
    "for k in DF3['pos']:\n",
    "    if str(k) not in pos_IC1_2_3:\n",
    "        pos_IC1_2_3 += str(k)+' '\n",
    "print(pos_IC1_2_3)"
   ]
  },
  {
   "cell_type": "markdown",
   "metadata": {},
   "source": [
    "# Threshold=0.18"
   ]
  },
  {
   "cell_type": "code",
   "execution_count": 23,
   "metadata": {},
   "outputs": [
    {
     "name": "stderr",
     "output_type": "stream",
     "text": [
      "100%|██████████| 6/6 [00:00<00:00, 1263.53it/s]           \n",
      "100%|██████████| 6/6 [00:00<00:00, 17.55it/s]                                 \n",
      "100%|██████████| 5/5 [00:00<00:00, 142.41it/s]              \n"
     ]
    },
    {
     "name": "stdout",
     "output_type": "stream",
     "text": [
      "1.8036596142805537\n"
     ]
    }
   ],
   "source": [
    "###### Step-3 THRESHOLD = 0.18 ######\n",
    "\n",
    "pdb=('mpro.pdb')\n",
    "traj=['mpro01.dcd','mpro02.dcd','mpro03.dcd','mpro04.dcd','mpro05.dcd','mpro06.dcd']\n",
    "torsions_feat = pyemma.coordinates.featurizer(pdb) \n",
    "selstr=pos_IC1_2_3\n",
    "torsions_feat.add_backbone_torsions(selstr, cossin=True, periodic=False)\n",
    "torsions_data=pyemma.coordinates.load(traj, features= torsions_feat)\n",
    "labels = ['backbone\\ntorsions']\n",
    "score_phi_psi = pyemma.coordinates.vamp(torsions_data[:-1], dim=3).score(\n",
    "            test_data=torsions_data[-1],\n",
    "            score_method='VAMP2')\n",
    "print(score_phi_psi)"
   ]
  },
  {
   "cell_type": "code",
   "execution_count": 24,
   "metadata": {},
   "outputs": [
    {
     "name": "stderr",
     "output_type": "stream",
     "text": [
      "100%|██████████| 6/6 [00:00<00:00, 126.17it/s]              \n",
      "100%|██████████| 6/6 [00:00<00:00, 760.99it/s]               \n",
      "initialize kmeans++ centers:   0%|          | 0/100 [00:00<?, ?it/s]\n",
      "100%|██████████| 100/100 [00:00<00:00, 38.21it/s]                           \n",
      "100%|██████████| 100/100 [00:00<00:00, 563.62it/s]        \n",
      "100%|██████████| 100/100 [00:00<00:00, 552.79it/s]                \n",
      "100%|██████████| 12/12 [00:02<00:00,  4.00it/s]                        \n",
      "1744it [00:00, 12187.40it/s]                                                                                                           \n",
      "100%|██████████| 100/100 [00:00<00:00, 303.20it/s]                                                                   \n"
     ]
    },
    {
     "data": {
      "image/png": "[encoded data removed]",
      "text/plain": [
       "<Figure size 720x576 with 7 Axes>"
      ]
     },
     "metadata": {
      "needs_background": "light"
     },
     "output_type": "display_data"
    }
   ],
   "source": [
    "#time-lagged independent component analysis (TICA)\n",
    "tica = pyemma.coordinates.tica(torsions_data, dim=3, lag=50)\n",
    "tica_output = tica.get_output()\n",
    "tica_concatenated = np.concatenate(tica_output)\n",
    "    \n",
    "##Clustering\n",
    "cluster = pyemma.coordinates.cluster_kmeans(\n",
    "    tica_concatenated, k=100, max_iter=100, stride=10, fixed_seed=100)\n",
    "dtrajs_concatenated = np.concatenate(cluster.dtrajs)\n",
    "its = pyemma.msm.its(cluster.dtrajs, lags=[10, 20, 30, 40, 50, 100, 150, 200, 250, 300, 350, 450], nits=10, errors='bayes')\n",
    "\n",
    "nstates=3\n",
    "msm = pyemma.msm.bayesian_markov_model(cluster.dtrajs, lag=50, dt_traj='1 ns', conf=0.95)\n",
    "#pyemma.plots.plot_cktest(msm.cktest(nstates));\n",
    "msm.pcca(nstates)\n",
    "\n",
    "fig, axes = plt.subplots(2, 2, figsize=(10, 8))\n",
    "draw_panel(axes[0, 0], 0, 2)\n",
    "draw_panel(axes[0, 1], 1, 2)\n",
    "draw_panel(axes[1, 0], 0, 1)\n",
    "axes[1, 1].set_axis_off()\n",
    "fig.tight_layout()"
   ]
  },
  {
   "cell_type": "code",
   "execution_count": 25,
   "metadata": {},
   "outputs": [
    {
     "name": "stderr",
     "output_type": "stream",
     "text": [
      "100%|██████████| 6/6 [00:00<00:00, 127.59it/s]              \n",
      "100%|██████████| 6/6 [00:00<00:00, 1045.09it/s]              "
     ]
    },
    {
     "name": "stdout",
     "output_type": "stream",
     "text": [
      "resSeq 44 47 48 53 62 82 83 84 111 112 118 127 137 138 139 141 144 159 182 193 238 239 240 280 286 287 288 289 290 291 297 304 \n"
     ]
    },
    {
     "name": "stderr",
     "output_type": "stream",
     "text": [
      "\n"
     ]
    }
   ],
   "source": [
    "tica = pyemma.coordinates.tica(torsions_data, dim=3, lag=50)\n",
    "tica_output = tica.get_output()\n",
    "tica_concatenated = np.concatenate(tica_output)\n",
    "        \n",
    "C = tica.feature_TIC_correlation\n",
    "df = pd.DataFrame(C[:,:3], columns=['IC1','IC2','IC3'])\n",
    "p=[]\n",
    "for j in torsions_feat.describe():\n",
    "    a = re.findall(r'(?<=\\s)\\d+(?=\\))',j) #το έκανα αυτό γιατί παρατήρησα οτι κάποιες φορές οι θέσεις είναι ανακατεμένες        \n",
    "    p.append(int(a[0]))\n",
    "df['pos']=p\n",
    "threshold = 0.065\n",
    "DF3 = df[~(df['IC1']<=threshold) | ~(df['IC1']>=-threshold)]\n",
    "DF3 = DF3[~(DF3['IC2']<=threshold) | ~(DF3['IC2']>=-threshold)] \n",
    "DF3 = DF3[~(DF3['IC3']<=threshold) | ~(DF3['IC3']>=-threshold)] \n",
    "        \n",
    "pos_IC1_2_3 = 'resSeq '\n",
    "for k in DF3['pos']:\n",
    "    if str(k) not in pos_IC1_2_3:\n",
    "        pos_IC1_2_3 += str(k)+' '\n",
    "print(pos_IC1_2_3)"
   ]
  },
  {
   "cell_type": "markdown",
   "metadata": {},
   "source": [
    "# Threshold=0.065"
   ]
  },
  {
   "cell_type": "code",
   "execution_count": 26,
   "metadata": {},
   "outputs": [
    {
     "name": "stderr",
     "output_type": "stream",
     "text": [
      "100%|██████████| 6/6 [00:00<00:00, 997.50it/s]            \n",
      "100%|██████████| 6/6 [00:00<00:00, 18.00it/s]                                 \n",
      "100%|██████████| 5/5 [00:00<00:00, 125.63it/s]              \n"
     ]
    },
    {
     "name": "stdout",
     "output_type": "stream",
     "text": [
      "1.8106286168129664\n"
     ]
    }
   ],
   "source": [
    "###### Step-4 THRESHOLD = 0.065 ######\n",
    "\n",
    "pdb=('mpro.pdb')\n",
    "traj=['mpro01.dcd','mpro02.dcd','mpro03.dcd','mpro04.dcd','mpro05.dcd','mpro06.dcd']\n",
    "torsions_feat = pyemma.coordinates.featurizer(pdb) \n",
    "selstr=pos_IC1_2_3\n",
    "torsions_feat.add_backbone_torsions(selstr, cossin=True, periodic=False)\n",
    "torsions_data=pyemma.coordinates.load(traj, features= torsions_feat)\n",
    "labels = ['backbone\\ntorsions']\n",
    "score_phi_psi = pyemma.coordinates.vamp(torsions_data[:-1], dim=3).score(\n",
    "            test_data=torsions_data[-1],\n",
    "            score_method='VAMP2')\n",
    "print(score_phi_psi)"
   ]
  },
  {
   "cell_type": "code",
   "execution_count": 27,
   "metadata": {},
   "outputs": [
    {
     "name": "stderr",
     "output_type": "stream",
     "text": [
      "100%|██████████| 6/6 [00:00<00:00, 119.08it/s]              \n",
      "100%|██████████| 6/6 [00:00<00:00, 597.95it/s]               \n",
      "initialize kmeans++ centers:   0%|          | 0/100 [00:00<?, ?it/s]\n",
      "100%|██████████| 100/100 [00:00<00:00, 315.61it/s]                            \n",
      "100%|██████████| 100/100 [00:00<00:00, 650.00it/s]        \n",
      "100%|██████████| 100/100 [00:00<00:00, 641.49it/s]                \n",
      "100%|██████████| 12/12 [00:03<00:00,  3.79it/s]                       \n",
      "1776it [00:00, 13654.06it/s]                                                                                                           \n",
      "100%|██████████| 100/100 [00:00<00:00, 298.36it/s]                                                                   \n"
     ]
    },
    {
     "data": {
      "image/png": "[encoded data removed]",
      "text/plain": [
       "<Figure size 720x576 with 7 Axes>"
      ]
     },
     "metadata": {
      "needs_background": "light"
     },
     "output_type": "display_data"
    }
   ],
   "source": [
    "#time-lagged independent component analysis (TICA)\n",
    "tica = pyemma.coordinates.tica(torsions_data, dim=3, lag=50)\n",
    "tica_output = tica.get_output()\n",
    "tica_concatenated = np.concatenate(tica_output)\n",
    "    \n",
    "##Clustering\n",
    "cluster = pyemma.coordinates.cluster_kmeans(\n",
    "    tica_concatenated, k=100, max_iter=100, stride=10, fixed_seed=100)\n",
    "dtrajs_concatenated = np.concatenate(cluster.dtrajs)\n",
    "its = pyemma.msm.its(cluster.dtrajs, lags=[10, 20, 30, 40, 50, 100, 150, 200, 250, 300, 350, 450], nits=10, errors='bayes')\n",
    "\n",
    "nstates=3\n",
    "msm = pyemma.msm.bayesian_markov_model(cluster.dtrajs, lag=50, dt_traj='1 ns', conf=0.95)\n",
    "#pyemma.plots.plot_cktest(msm.cktest(nstates));\n",
    "msm.pcca(nstates)\n",
    "\n",
    "fig, axes = plt.subplots(2, 2, figsize=(10, 8))\n",
    "draw_panel(axes[0, 0], 0, 2)\n",
    "draw_panel(axes[0, 1], 1, 2)\n",
    "draw_panel(axes[1, 0], 0, 1)\n",
    "axes[1, 1].set_axis_off()\n",
    "fig.tight_layout()"
   ]
  },
  {
   "cell_type": "code",
   "execution_count": 28,
   "metadata": {},
   "outputs": [
    {
     "name": "stderr",
     "output_type": "stream",
     "text": [
      "100%|██████████| 6/6 [00:00<00:00, 149.49it/s]              \n",
      "100%|██████████| 6/6 [00:00<00:00, 266.86it/s]               "
     ]
    },
    {
     "name": "stdout",
     "output_type": "stream",
     "text": [
      "resSeq 44 48 53 62 82 83 84 111 112 118 137 138 139 141 144 159 182 238 239 240 286 287 288 289 291 \n"
     ]
    },
    {
     "name": "stderr",
     "output_type": "stream",
     "text": [
      "\n"
     ]
    }
   ],
   "source": [
    "tica = pyemma.coordinates.tica(torsions_data, dim=3, lag=50)\n",
    "tica_output = tica.get_output()\n",
    "tica_concatenated = np.concatenate(tica_output)\n",
    "        \n",
    "C = tica.feature_TIC_correlation\n",
    "df = pd.DataFrame(C[:,:3], columns=['IC1','IC2','IC3'])\n",
    "p=[]\n",
    "for j in torsions_feat.describe():\n",
    "    a = re.findall(r'(?<=\\s)\\d+(?=\\))',j) #το έκανα αυτό γιατί παρατήρησα οτι κάποιες φορές οι θέσεις είναι ανακατεμένες        \n",
    "    p.append(int(a[0]))\n",
    "df['pos']=p\n",
    "threshold = 0.135\n",
    "DF3 = df[~(df['IC1']<=threshold) | ~(df['IC1']>=-threshold)]\n",
    "DF3 = DF3[~(DF3['IC2']<=threshold) | ~(DF3['IC2']>=-threshold)] \n",
    "DF3 = DF3[~(DF3['IC3']<=threshold) | ~(DF3['IC3']>=-threshold)] \n",
    "        \n",
    "pos_IC1_2_3 = 'resSeq '\n",
    "for k in DF3['pos']:\n",
    "    if str(k) not in pos_IC1_2_3:\n",
    "        pos_IC1_2_3 += str(k)+' '\n",
    "print(pos_IC1_2_3)"
   ]
  },
  {
   "cell_type": "markdown",
   "metadata": {},
   "source": [
    "# Threshold=0.135"
   ]
  },
  {
   "cell_type": "code",
   "execution_count": 31,
   "metadata": {},
   "outputs": [
    {
     "name": "stderr",
     "output_type": "stream",
     "text": [
      "100%|██████████| 6/6 [00:00<00:00, 969.15it/s]            \n",
      "100%|██████████| 6/6 [00:00<00:00, 19.27it/s]                                 \n",
      "100%|██████████| 5/5 [00:00<00:00, 191.74it/s]              "
     ]
    },
    {
     "name": "stdout",
     "output_type": "stream",
     "text": [
      "1.8488008830295044\n"
     ]
    },
    {
     "name": "stderr",
     "output_type": "stream",
     "text": [
      "\n"
     ]
    }
   ],
   "source": [
    "###### Step-5 THRESHOLD = 0.135 ######\n",
    "\n",
    "pdb=('mpro.pdb')\n",
    "traj=['mpro01.dcd','mpro02.dcd','mpro03.dcd','mpro04.dcd','mpro05.dcd','mpro06.dcd']\n",
    "torsions_feat = pyemma.coordinates.featurizer(pdb) \n",
    "selstr=pos_IC1_2_3\n",
    "torsions_feat.add_backbone_torsions(selstr, cossin=True, periodic=False)\n",
    "torsions_data=pyemma.coordinates.load(traj, features= torsions_feat)\n",
    "labels = ['backbone\\ntorsions']\n",
    "score_phi_psi = pyemma.coordinates.vamp(torsions_data[:-1], dim=3).score(\n",
    "            test_data=torsions_data[-1],\n",
    "            score_method='VAMP2')\n",
    "print(score_phi_psi)"
   ]
  },
  {
   "cell_type": "code",
   "execution_count": 32,
   "metadata": {},
   "outputs": [
    {
     "name": "stderr",
     "output_type": "stream",
     "text": [
      "100%|██████████| 6/6 [00:00<00:00, 198.90it/s]              \n",
      "100%|██████████| 6/6 [00:00<00:00, 921.29it/s]               \n",
      "initialize kmeans++ centers:   0%|          | 0/100 [00:00<?, ?it/s]\n",
      "100%|██████████| 100/100 [00:00<00:00, 377.98it/s]                            \n",
      "100%|██████████| 100/100 [00:00<00:00, 723.61it/s]        \n",
      "100%|██████████| 100/100 [00:00<00:00, 683.08it/s]                \n",
      "100%|██████████| 12/12 [00:02<00:00,  4.60it/s]                        \n",
      "1824it [00:00, 12616.40it/s]                                                                                                           \n",
      "100%|██████████| 100/100 [00:00<00:00, 359.49it/s]                                                                   \n"
     ]
    },
    {
     "data": {
      "image/png": "[encoded data removed]",
      "text/plain": [
       "<Figure size 720x576 with 7 Axes>"
      ]
     },
     "metadata": {
      "needs_background": "light"
     },
     "output_type": "display_data"
    }
   ],
   "source": [
    "#time-lagged independent component analysis (TICA)\n",
    "tica = pyemma.coordinates.tica(torsions_data, dim=3, lag=50)\n",
    "tica_output = tica.get_output()\n",
    "tica_concatenated = np.concatenate(tica_output)\n",
    "    \n",
    "##Clustering\n",
    "cluster = pyemma.coordinates.cluster_kmeans(\n",
    "    tica_concatenated, k=100, max_iter=100, stride=10, fixed_seed=100)\n",
    "dtrajs_concatenated = np.concatenate(cluster.dtrajs)\n",
    "its = pyemma.msm.its(cluster.dtrajs, lags=[10, 20, 30, 40, 50, 100, 150, 200, 250, 300, 350, 450], nits=10, errors='bayes')\n",
    "\n",
    "nstates=3\n",
    "msm = pyemma.msm.bayesian_markov_model(cluster.dtrajs, lag=50, dt_traj='1 ns', conf=0.95)\n",
    "#pyemma.plots.plot_cktest(msm.cktest(nstates));\n",
    "msm.pcca(nstates)\n",
    "\n",
    "fig, axes = plt.subplots(2, 2, figsize=(10, 8))\n",
    "draw_panel(axes[0, 0], 0, 2)\n",
    "draw_panel(axes[0, 1], 1, 2)\n",
    "draw_panel(axes[1, 0], 0, 1)\n",
    "axes[1, 1].set_axis_off()\n",
    "fig.tight_layout()"
   ]
  },
  {
   "cell_type": "code",
   "execution_count": 38,
   "metadata": {},
   "outputs": [
    {
     "name": "stderr",
     "output_type": "stream",
     "text": [
      "100%|██████████| 6/6 [00:00<00:00, 131.23it/s]              \n",
      "100%|██████████| 6/6 [00:00<00:00, 892.28it/s]               "
     ]
    },
    {
     "name": "stdout",
     "output_type": "stream",
     "text": [
      "resSeq 44 48 53 82 83 84 111 112 118 137 138 139 141 159 182 238 239 240 286 287 288 289 291 \n"
     ]
    },
    {
     "name": "stderr",
     "output_type": "stream",
     "text": [
      "\n"
     ]
    }
   ],
   "source": [
    "tica = pyemma.coordinates.tica(torsions_data, dim=3, lag=50)\n",
    "tica_output = tica.get_output()\n",
    "tica_concatenated = np.concatenate(tica_output)\n",
    "        \n",
    "C = tica.feature_TIC_correlation\n",
    "df = pd.DataFrame(C[:,:3], columns=['IC1','IC2','IC3'])\n",
    "p=[]\n",
    "for j in torsions_feat.describe():\n",
    "    a = re.findall(r'(?<=\\s)\\d+(?=\\))',j) #το έκανα αυτό γιατί παρατήρησα οτι κάποιες φορές οι θέσεις είναι ανακατεμένες        \n",
    "    p.append(int(a[0]))\n",
    "df['pos']=p\n",
    "threshold = 0.125\n",
    "DF3 = df[~(df['IC1']<=threshold) | ~(df['IC1']>=-threshold)]\n",
    "DF3 = DF3[~(DF3['IC2']<=threshold) | ~(DF3['IC2']>=-threshold)] \n",
    "DF3 = DF3[~(DF3['IC3']<=threshold) | ~(DF3['IC3']>=-threshold)] \n",
    "        \n",
    "pos_IC1_2_3 = 'resSeq '\n",
    "for k in DF3['pos']:\n",
    "    if str(k) not in pos_IC1_2_3:\n",
    "        pos_IC1_2_3 += str(k)+' '\n",
    "print(pos_IC1_2_3)"
   ]
  },
  {
   "cell_type": "markdown",
   "metadata": {},
   "source": [
    "# Threshold=0.125"
   ]
  },
  {
   "cell_type": "code",
   "execution_count": 39,
   "metadata": {},
   "outputs": [
    {
     "name": "stderr",
     "output_type": "stream",
     "text": [
      "100%|██████████| 6/6 [00:00<00:00, 1269.27it/s]           \n",
      "100%|██████████| 6/6 [00:00<00:00, 19.45it/s]                                 \n",
      "100%|██████████| 5/5 [00:00<00:00, 205.56it/s]              "
     ]
    },
    {
     "name": "stdout",
     "output_type": "stream",
     "text": [
      "1.8281340620291489\n"
     ]
    },
    {
     "name": "stderr",
     "output_type": "stream",
     "text": [
      "\n"
     ]
    }
   ],
   "source": [
    "###### Step-6 THRESHOLD = 0.125 ######\n",
    "\n",
    "pdb=('mpro.pdb')\n",
    "traj=['mpro01.dcd','mpro02.dcd','mpro03.dcd','mpro04.dcd','mpro05.dcd','mpro06.dcd']\n",
    "torsions_feat = pyemma.coordinates.featurizer(pdb) \n",
    "selstr=pos_IC1_2_3\n",
    "torsions_feat.add_backbone_torsions(selstr, cossin=True, periodic=False)\n",
    "torsions_data=pyemma.coordinates.load(traj, features= torsions_feat)\n",
    "labels = ['backbone\\ntorsions']\n",
    "score_phi_psi = pyemma.coordinates.vamp(torsions_data[:-1], dim=3).score(\n",
    "            test_data=torsions_data[-1],\n",
    "            score_method='VAMP2')\n",
    "print(score_phi_psi)"
   ]
  },
  {
   "cell_type": "code",
   "execution_count": 40,
   "metadata": {},
   "outputs": [
    {
     "name": "stderr",
     "output_type": "stream",
     "text": [
      "100%|██████████| 6/6 [00:00<00:00, 123.59it/s]              \n",
      "100%|██████████| 6/6 [00:00<00:00, 298.33it/s]               \n",
      "initialize kmeans++ centers:   0%|          | 0/100 [00:00<?, ?it/s]\n",
      "100%|██████████| 100/100 [00:00<00:00, 38.37it/s]                           \n",
      "100%|██████████| 100/100 [00:00<00:00, 647.51it/s]        \n",
      "100%|██████████| 100/100 [00:00<00:00, 638.01it/s]                \n",
      "100%|██████████| 12/12 [00:02<00:00,  4.71it/s]                       \n",
      "1776it [00:00, 13778.24it/s]                                                                                                           \n",
      "100%|██████████| 100/100 [00:00<00:00, 362.51it/s]                                                                   \n"
     ]
    },
    {
     "data": {
      "image/png": "[encoded data removed]",
      "text/plain": [
       "<Figure size 720x576 with 7 Axes>"
      ]
     },
     "metadata": {
      "needs_background": "light"
     },
     "output_type": "display_data"
    }
   ],
   "source": [
    "#time-lagged independent component analysis (TICA)\n",
    "tica = pyemma.coordinates.tica(torsions_data, dim=3, lag=50)\n",
    "tica_output = tica.get_output()\n",
    "tica_concatenated = np.concatenate(tica_output)\n",
    "    \n",
    "##Clustering\n",
    "cluster = pyemma.coordinates.cluster_kmeans(\n",
    "    tica_concatenated, k=100, max_iter=100, stride=10, fixed_seed=100)\n",
    "dtrajs_concatenated = np.concatenate(cluster.dtrajs)\n",
    "its = pyemma.msm.its(cluster.dtrajs, lags=[10, 20, 30, 40, 50, 100, 150, 200, 250, 300, 350, 450], nits=10, errors='bayes')\n",
    "\n",
    "nstates=3\n",
    "msm = pyemma.msm.bayesian_markov_model(cluster.dtrajs, lag=50, dt_traj='1 ns', conf=0.95)\n",
    "#pyemma.plots.plot_cktest(msm.cktest(nstates));\n",
    "msm.pcca(nstates)\n",
    "\n",
    "fig, axes = plt.subplots(2, 2, figsize=(10, 8))\n",
    "draw_panel(axes[0, 0], 0, 2)\n",
    "draw_panel(axes[0, 1], 1, 2)\n",
    "draw_panel(axes[1, 0], 0, 1)\n",
    "axes[1, 1].set_axis_off()\n",
    "fig.tight_layout()"
   ]
  },
  {
   "cell_type": "code",
   "execution_count": 41,
   "metadata": {},
   "outputs": [
    {
     "data": {
      "text/plain": [
       "23"
      ]
     },
     "execution_count": 41,
     "metadata": {},
     "output_type": "execute_result"
    }
   ],
   "source": [
    "len(\"44 48 53 82 83 84 111 112 118 137 138 139 141 159 182 238 239 240 286 287 288 289 291\".split(' '))"
   ]
  },
  {
   "cell_type": "markdown",
   "metadata": {},
   "source": [
    "Θα πρότεινα να σταματήσουμε στο step6 και οχι στο step 5 διότι παρ'ολο που πέφτουμε λίγο σε score, το 3ο state (κίτρινο) απ'όσο βλέπω από το τελευταίο διάγραμμα, δεν επικαλύπτετατι από το 2ο state (πράσινο) όπως φαίνεται να συμβαίνει στο πρότελευταίο διάγραμμα. Καταλήγουμε σε 23 αμινοξέα."
   ]
  },
  {
   "cell_type": "code",
   "execution_count": 42,
   "metadata": {},
   "outputs": [],
   "source": [
    "s = \"3 4 6 84 141 164 167 171 175 178 179 180 190 195 284 285 286 290 300 301\".split(\" \") #αμινοξέα από την προηγούμενη ανάλυση\n",
    "s_FOR = \"44 48 53 82 83 84 111 112 118 137 138 139 141 159 182 238 239 240 286 287 288 289 291\".split(' ')#αμινοξέα από την ανάλυση των FOR τροχιών"
   ]
  },
  {
   "cell_type": "code",
   "execution_count": 44,
   "metadata": {},
   "outputs": [
    {
     "name": "stdout",
     "output_type": "stream",
     "text": [
      "84\n",
      "141\n",
      "286\n"
     ]
    }
   ],
   "source": [
    "##Κοινά αμινοξέα\n",
    "for i in s:\n",
    "    if i in s_FOR:\n",
    "        print(i)"
   ]
  },
  {
   "cell_type": "code",
   "execution_count": null,
   "metadata": {},
   "outputs": [],
   "source": []
  }
 ],
 "metadata": {
  "kernelspec": {
   "display_name": "Python 3",
   "language": "python",
   "name": "python3"
  },
  "language_info": {
   "codemirror_mode": {
    "name": "ipython",
    "version": 3
   },
   "file_extension": ".py",
   "mimetype": "text/x-python",
   "name": "python",
   "nbconvert_exporter": "python",
   "pygments_lexer": "ipython3",
   "version": "3.7.6"
  }
 },
 "nbformat": 4,
 "nbformat_minor": 4
}
